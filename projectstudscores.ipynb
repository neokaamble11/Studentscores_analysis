
    "import numpy as np\n",
    "import pandas as pd\n",
    "import matplotlib.pyplot as plt\n",
    "import seaborn as sns\n"
  
    "df = pd.read_csv(\"Expanded_data_with_more_features.csv\")\n",
    "print(df.head)"
 
    "df.describe()"
   
    "df.info() "

    "df= df.drop(\"Unnamed: 0\", axis =1)\n",
    "print(df.head())\n"
  
    "#change weekly study hours\n",
    "df[\"WklyStudyHours\"]=df[\"WklyStudyHours\"].str.replace(\"05-Oct\",\"5-10\")\n",
    "df.head()"

    "# gender distribution\n",
    "plt.figure(figsize =(5,5))\n",
    "ax = sns.countplot(data=df, x = \"Gender\")\n",
    "ax.bar_label(ax.containers[0])\n",
    "plt.title(\"Gender Distribution\")\n",
    "plt.show()"
 
    "#female is more than number of males"
 
    "gp = df.groupby(\"ParentEduc\").agg({\"MathScore\":'mean',\"ReadingScore\":'mean',\"WritingScore\":'mean'})\n",
    "print(gp)"
   
    "plt.figure(figsize=(4,4))\n",
    "sns.heatmap(gp1,annot =True)\n",
    "plt.title(\"Relationship between Parent's Marital status and Student's score\")\n",
   
    "sns.boxplot(data = df, x=\"MathScore\") # to see outliers "

       "<Axes: xlabel='ReadingScore'>"

   "source": [
    "sns.boxplot(data = df, x=\"ReadingScore\") # to see outliers "
   
       "<Axes: xlabel='WritingScore'>"
     
   
        "print(df[\"EthnicGroup\"].unique()) #distribution of ethnic groups"
   
    "groupA = df.loc[(df['EthnicGroup'] == \"group A\")].count()\n",
    "print(groupA)"
 
    "groupB = df.loc[(df['EthnicGroup'] == \"group B\")].count()\n",
    "print(groupB)"
 
    "groupC = df.loc[(df['EthnicGroup'] == \"group C\")].count()\n",
    "print(groupC)"

    "groupD = df.loc[(df['EthnicGroup'] == \"group D\")].count()\n",
    "print(groupD)"
   
    "groupE= df.loc[(df['EthnicGroup'] == \"group E\")].count()\n",
    "print(groupE)"
 
    "l = [\"group A\",\"group B\",\"group C\",\"group D\",\"group E\"]\n",
    "mlist=[groupA[\"EthnicGroup\"],groupB[\"EthnicGroup\"],groupC[\"EthnicGroup\"],groupD[\"EthnicGroup\"],groupE[\"EthnicGroup\"]]\n",
    "plt.pie(mlist, labels = l, autopct =\"%1.2f\n",
    "print(mlist)\n",
    "plt.title(\"Distribution of Ethnic Group\")\n",
    "plt.show"
   
      "text/plain": [
       "[Text(0, 0, '9212'),\n",
       " Text(0, 0, '5826'),\n",
       " Text(0, 0, '2219'),\n",
       " Text(0, 0, '7503'),\n",
       " Text(0, 0, '4041')]"

    "ax= sns.countplot(data =df, x ='EthnicGroup')\n",
    "ax.bar_label(ax.containers[0])"
 
    "#tested accuracy"
   
